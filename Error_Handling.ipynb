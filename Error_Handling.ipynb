{
  "nbformat": 4,
  "nbformat_minor": 0,
  "metadata": {
    "colab": {
      "provenance": [],
      "authorship_tag": "ABX9TyN7NZS8ZI+RUMQncLTMINak",
      "include_colab_link": true
    },
    "kernelspec": {
      "name": "python3",
      "display_name": "Python 3"
    },
    "language_info": {
      "name": "python"
    }
  },
  "cells": [
    {
      "cell_type": "markdown",
      "metadata": {
        "id": "view-in-github",
        "colab_type": "text"
      },
      "source": [
        "<a href=\"https://colab.research.google.com/github/niharikaathakur/Python_For_Data_Engineers/blob/main/Error_Handling.ipynb\" target=\"_parent\"><img src=\"https://colab.research.google.com/assets/colab-badge.svg\" alt=\"Open In Colab\"/></a>"
      ]
    },
    {
      "cell_type": "code",
      "source": [
        "try:\n",
        "  print(10/0)\n",
        "except:\n",
        "  print(\"Sorry you are dividing by 0\")"
      ],
      "metadata": {
        "colab": {
          "base_uri": "https://localhost:8080/"
        },
        "id": "5WnmDv15TeXA",
        "outputId": "24bb78fb-c5c5-470e-f81e-08d7a8c3c859"
      },
      "execution_count": 3,
      "outputs": [
        {
          "output_type": "stream",
          "name": "stdout",
          "text": [
            "Sorry you are dividing by 0\n"
          ]
        }
      ]
    },
    {
      "cell_type": "code",
      "source": [
        "try:\n",
        "  print(10/2)\n",
        "except:\n",
        "  print(\"Sorry you are dividing by 0\")\n",
        "else:\n",
        "  print(\"Nothing wrong happened\")\n",
        "finally:\n",
        "  print(\"Executes always\")"
      ],
      "metadata": {
        "colab": {
          "base_uri": "https://localhost:8080/"
        },
        "id": "C920zm-WTzx5",
        "outputId": "78daa927-e7b1-4808-8f09-7c38a031a2c7"
      },
      "execution_count": 4,
      "outputs": [
        {
          "output_type": "stream",
          "name": "stdout",
          "text": [
            "5.0\n",
            "Nothing wrong happened\n",
            "Executes always\n"
          ]
        }
      ]
    },
    {
      "cell_type": "code",
      "source": [
        "try:\n",
        "  print(10/0)\n",
        "except:\n",
        "  print(\"Sorry you are dividing by 0\")\n",
        "else:\n",
        "  print(\"Nothing wrong happened\")\n",
        "finally:\n",
        "  print(\"Executes always\")"
      ],
      "metadata": {
        "colab": {
          "base_uri": "https://localhost:8080/"
        },
        "id": "8VanIsljUAss",
        "outputId": "b7ced272-5dc0-4cae-b079-3f8471bc2bba"
      },
      "execution_count": 5,
      "outputs": [
        {
          "output_type": "stream",
          "name": "stdout",
          "text": [
            "Sorry you are dividing by 0\n",
            "Executes always\n"
          ]
        }
      ]
    }
  ]
}