{
  "nbformat": 4,
  "nbformat_minor": 0,
  "metadata": {
    "colab": {
      "provenance": [],
      "authorship_tag": "ABX9TyP4z8EDn8Tgec7ikh9DKSoF",
      "include_colab_link": true
    },
    "kernelspec": {
      "name": "python3",
      "display_name": "Python 3"
    },
    "language_info": {
      "name": "python"
    }
  },
  "cells": [
    {
      "cell_type": "markdown",
      "metadata": {
        "id": "view-in-github",
        "colab_type": "text"
      },
      "source": [
        "<a href=\"https://colab.research.google.com/github/niharikaathakur/Python_For_Data_Engineers/blob/main/Python_For_Data_Engineering.ipynb\" target=\"_parent\"><img src=\"https://colab.research.google.com/assets/colab-badge.svg\" alt=\"Open In Colab\"/></a>"
      ]
    },
    {
      "cell_type": "code",
      "execution_count": 1,
      "metadata": {
        "colab": {
          "base_uri": "https://localhost:8080/"
        },
        "id": "FQPZHVjeGRbo",
        "outputId": "ccb01db8-4e27-47da-f603-96a34d56d345"
      },
      "outputs": [
        {
          "output_type": "stream",
          "name": "stdout",
          "text": [
            "Hello Data Engineering\n"
          ]
        }
      ],
      "source": [
        "print(\"Hello Data Engineering\")"
      ]
    },
    {
      "cell_type": "code",
      "source": [
        "greeting = \"Hello , Welcome to Python Programming\"\n",
        "print(greeting)"
      ],
      "metadata": {
        "colab": {
          "base_uri": "https://localhost:8080/"
        },
        "id": "SzLUnMFTJ_Z3",
        "outputId": "70cc2a38-2f75-4851-e660-08fa571bed83"
      },
      "execution_count": 2,
      "outputs": [
        {
          "output_type": "stream",
          "name": "stdout",
          "text": [
            "Hello , Welcome to Python Programming\n"
          ]
        }
      ]
    },
    {
      "cell_type": "code",
      "source": [
        "int_var = 7\n",
        "float_var = 3.14\n",
        "str_var = \"Hello World\"\n",
        "bool_var = True"
      ],
      "metadata": {
        "id": "QPGUXd0hLKbV"
      },
      "execution_count": 3,
      "outputs": []
    },
    {
      "cell_type": "code",
      "source": [
        "print(int_var)"
      ],
      "metadata": {
        "colab": {
          "base_uri": "https://localhost:8080/"
        },
        "id": "UZJRTFmMLdXO",
        "outputId": "5a2b5523-4f97-433a-a995-27f0ccbffe57"
      },
      "execution_count": 4,
      "outputs": [
        {
          "output_type": "stream",
          "name": "stdout",
          "text": [
            "7\n"
          ]
        }
      ]
    },
    {
      "cell_type": "code",
      "source": [],
      "metadata": {
        "id": "mGt02ZaZLi6-"
      },
      "execution_count": null,
      "outputs": []
    }
  ]
}