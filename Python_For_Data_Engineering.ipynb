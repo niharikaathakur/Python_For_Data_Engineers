{
  "nbformat": 4,
  "nbformat_minor": 0,
  "metadata": {
    "colab": {
      "provenance": []
    },
    "kernelspec": {
      "name": "python3",
      "display_name": "Python 3"
    },
    "language_info": {
      "name": "python"
    }
  },
  "cells": [
    {
      "cell_type": "code",
      "execution_count": 1,
      "metadata": {
        "colab": {
          "base_uri": "https://localhost:8080/"
        },
        "id": "FQPZHVjeGRbo",
        "outputId": "ccb01db8-4e27-47da-f603-96a34d56d345"
      },
      "outputs": [
        {
          "output_type": "stream",
          "name": "stdout",
          "text": [
            "Hello Data Engineering\n"
          ]
        }
      ],
      "source": [
        "print(\"Hello Data Engineering\")"
      ]
    },
    {
      "cell_type": "code",
      "source": [],
      "metadata": {
        "id": "SzLUnMFTJ_Z3"
      },
      "execution_count": null,
      "outputs": []
    }
  ]
}