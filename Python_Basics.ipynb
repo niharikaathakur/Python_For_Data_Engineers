{
  "nbformat": 4,
  "nbformat_minor": 0,
  "metadata": {
    "colab": {
      "provenance": [],
      "authorship_tag": "ABX9TyOWxvJjFyvfCvYLVR/rCByE",
      "include_colab_link": true
    },
    "kernelspec": {
      "name": "python3",
      "display_name": "Python 3"
    },
    "language_info": {
      "name": "python"
    }
  },
  "cells": [
    {
      "cell_type": "markdown",
      "metadata": {
        "id": "view-in-github",
        "colab_type": "text"
      },
      "source": [
        "<a href=\"https://colab.research.google.com/github/niharikaathakur/Python_For_Data_Engineers/blob/main/Python_Basics.ipynb\" target=\"_parent\"><img src=\"https://colab.research.google.com/assets/colab-badge.svg\" alt=\"Open In Colab\"/></a>"
      ]
    },
    {
      "cell_type": "code",
      "execution_count": 5,
      "metadata": {
        "colab": {
          "base_uri": "https://localhost:8080/"
        },
        "id": "FQPZHVjeGRbo",
        "outputId": "3e78991f-5825-418e-d8dd-d08523afd18b"
      },
      "outputs": [
        {
          "output_type": "stream",
          "name": "stdout",
          "text": [
            "Hello Data Engineering\n"
          ]
        }
      ],
      "source": [
        "print(\"Hello Data Engineering\")"
      ]
    },
    {
      "cell_type": "code",
      "source": [
        "#print\n",
        "greeting = \"Hello , Welcome to Python Programming\"\n",
        "print(greeting)"
      ],
      "metadata": {
        "colab": {
          "base_uri": "https://localhost:8080/"
        },
        "id": "SzLUnMFTJ_Z3",
        "outputId": "42512878-e8fb-47ba-d7ac-2063d48179a1"
      },
      "execution_count": 6,
      "outputs": [
        {
          "output_type": "stream",
          "name": "stdout",
          "text": [
            "Hello , Welcome to Python Programming\n"
          ]
        }
      ]
    },
    {
      "cell_type": "code",
      "source": [
        "#Variables in Python\n",
        "int_var = 7\n",
        "float_var = 3.14\n",
        "str_var = \"Hello World\"\n",
        "bool_var = True"
      ],
      "metadata": {
        "id": "QPGUXd0hLKbV"
      },
      "execution_count": 7,
      "outputs": []
    },
    {
      "cell_type": "code",
      "source": [
        "print(int_var)"
      ],
      "metadata": {
        "colab": {
          "base_uri": "https://localhost:8080/"
        },
        "id": "UZJRTFmMLdXO",
        "outputId": "0eebb110-242a-46c6-ea0a-104ae5c453e3"
      },
      "execution_count": 8,
      "outputs": [
        {
          "output_type": "stream",
          "name": "stdout",
          "text": [
            "7\n"
          ]
        }
      ]
    },
    {
      "cell_type": "code",
      "source": [
        "#Operators in python\n",
        "\n",
        "#Arithmetic Operators\n",
        "num1 = 7\n",
        "num2 = 10\n",
        "\n",
        "sum = num1 + num2\n",
        "sub = num1 - num2\n",
        "mul = num1 * num2\n",
        "div = num1 / num2\n",
        "\n",
        "print(sum)\n",
        "print(sub)\n",
        "print(mul)\n",
        "print(div)"
      ],
      "metadata": {
        "colab": {
          "base_uri": "https://localhost:8080/"
        },
        "id": "mGt02ZaZLi6-",
        "outputId": "8a74de3a-822a-4d06-f5f4-730752046d51"
      },
      "execution_count": 11,
      "outputs": [
        {
          "output_type": "stream",
          "name": "stdout",
          "text": [
            "17\n",
            "-3\n",
            "70\n",
            "0.7\n"
          ]
        }
      ]
    },
    {
      "cell_type": "code",
      "source": [
        "#Comparison Operator\n",
        "\n",
        "var_eql = num1==num2\n",
        "print(var_eql)"
      ],
      "metadata": {
        "colab": {
          "base_uri": "https://localhost:8080/"
        },
        "id": "6FbIbsOUMZ5f",
        "outputId": "056c0d54-31d3-4567-d5f1-7c38788ff3ce"
      },
      "execution_count": 13,
      "outputs": [
        {
          "output_type": "stream",
          "name": "stdout",
          "text": [
            "False\n"
          ]
        }
      ]
    },
    {
      "cell_type": "code",
      "source": [
        "not_eql = num1!=num2\n",
        "print(not_eql)"
      ],
      "metadata": {
        "colab": {
          "base_uri": "https://localhost:8080/"
        },
        "id": "suVnLa3fMReG",
        "outputId": "cbbde5cb-14df-4d26-e55a-e7a949ae0fd2"
      },
      "execution_count": 14,
      "outputs": [
        {
          "output_type": "stream",
          "name": "stdout",
          "text": [
            "True\n"
          ]
        }
      ]
    },
    {
      "cell_type": "code",
      "source": [
        "#Logical Operators\n",
        "print(True and False)\n",
        "print(True or False)"
      ],
      "metadata": {
        "colab": {
          "base_uri": "https://localhost:8080/"
        },
        "id": "p6_z_DIIM1tR",
        "outputId": "4864cd99-123d-4dd6-cd3e-9a191a1d8cfb"
      },
      "execution_count": 17,
      "outputs": [
        {
          "output_type": "stream",
          "name": "stdout",
          "text": [
            "False\n",
            "True\n"
          ]
        }
      ]
    },
    {
      "cell_type": "markdown",
      "source": [
        "Control Statements"
      ],
      "metadata": {
        "id": "UCbQmDLSNkid"
      }
    },
    {
      "cell_type": "code",
      "source": [
        "num = 7\n",
        "if num>10:\n",
        "  print(\"Greater\")\n",
        "else:\n",
        "  print(\"Smaller\")"
      ],
      "metadata": {
        "colab": {
          "base_uri": "https://localhost:8080/"
        },
        "id": "0sazmCYQNiWd",
        "outputId": "3c416bfe-97a4-4e52-ee66-744f46d7d9a4"
      },
      "execution_count": 18,
      "outputs": [
        {
          "output_type": "stream",
          "name": "stdout",
          "text": [
            "Smaller\n"
          ]
        }
      ]
    },
    {
      "cell_type": "code",
      "source": [
        "for i in range(5):\n",
        "  print(i)"
      ],
      "metadata": {
        "colab": {
          "base_uri": "https://localhost:8080/"
        },
        "id": "RyHzKdVNN8Ek",
        "outputId": "93d85533-fa4b-4e03-c2fa-7ca573dfd25d"
      },
      "execution_count": 19,
      "outputs": [
        {
          "output_type": "stream",
          "name": "stdout",
          "text": [
            "0\n",
            "1\n",
            "2\n",
            "3\n",
            "4\n"
          ]
        }
      ]
    },
    {
      "cell_type": "code",
      "source": [
        "number = 5\n",
        "while number>0:\n",
        "  print(number)\n",
        "  number = number - 1"
      ],
      "metadata": {
        "colab": {
          "base_uri": "https://localhost:8080/"
        },
        "id": "wI8cUeEAOFLe",
        "outputId": "dd160d8b-fbe5-4bb6-de41-a2a4db5cafc0"
      },
      "execution_count": 20,
      "outputs": [
        {
          "output_type": "stream",
          "name": "stdout",
          "text": [
            "5\n",
            "4\n",
            "3\n",
            "2\n",
            "1\n"
          ]
        }
      ]
    }
  ]
}