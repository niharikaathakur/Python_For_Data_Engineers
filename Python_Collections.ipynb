{
  "nbformat": 4,
  "nbformat_minor": 0,
  "metadata": {
    "colab": {
      "provenance": [],
      "authorship_tag": "ABX9TyOjnA1UBtqV1V8aaL34nnFS",
      "include_colab_link": true
    },
    "kernelspec": {
      "name": "python3",
      "display_name": "Python 3"
    },
    "language_info": {
      "name": "python"
    }
  },
  "cells": [
    {
      "cell_type": "markdown",
      "metadata": {
        "id": "view-in-github",
        "colab_type": "text"
      },
      "source": [
        "<a href=\"https://colab.research.google.com/github/niharikaathakur/Python_For_Data_Engineers/blob/main/Python_Collections.ipynb\" target=\"_parent\"><img src=\"https://colab.research.google.com/assets/colab-badge.svg\" alt=\"Open In Colab\"/></a>"
      ]
    },
    {
      "cell_type": "markdown",
      "source": [
        "Tuples - Ordered and immutable\n"
      ],
      "metadata": {
        "id": "1UrRMM-SZaRN"
      }
    },
    {
      "cell_type": "code",
      "source": [
        "employee = (1, 'Niharika', 'Mumbai', 96573333)\n",
        "print(employee)"
      ],
      "metadata": {
        "colab": {
          "base_uri": "https://localhost:8080/"
        },
        "id": "PaHJ-G6jZO3Y",
        "outputId": "460107a3-0606-4e02-def6-3d25a6caef8d"
      },
      "execution_count": 1,
      "outputs": [
        {
          "output_type": "stream",
          "name": "stdout",
          "text": [
            "(1, 'Niharika', 'Mumbai', 96573333)\n"
          ]
        }
      ]
    },
    {
      "cell_type": "code",
      "source": [
        "print(employee[1])"
      ],
      "metadata": {
        "colab": {
          "base_uri": "https://localhost:8080/"
        },
        "id": "VG2esK_QZnj1",
        "outputId": "4b2d4b30-a999-43ce-e264-045c2794943e"
      },
      "execution_count": 4,
      "outputs": [
        {
          "output_type": "stream",
          "name": "stdout",
          "text": [
            "Niharika\n"
          ]
        }
      ]
    },
    {
      "cell_type": "code",
      "source": [
        "print(len(employee))"
      ],
      "metadata": {
        "colab": {
          "base_uri": "https://localhost:8080/"
        },
        "id": "DwHVM4uMZrHt",
        "outputId": "8ee77bc3-6a83-49b4-cfa5-179b9a5e3b37"
      },
      "execution_count": 3,
      "outputs": [
        {
          "output_type": "stream",
          "name": "stdout",
          "text": [
            "4\n"
          ]
        }
      ]
    },
    {
      "cell_type": "code",
      "source": [
        "new_employee = list(employee)\n",
        "new_employee[1] = 'Niharika Thakur'\n",
        "employee = tuple(new_employee)\n",
        "print(employee)"
      ],
      "metadata": {
        "colab": {
          "base_uri": "https://localhost:8080/"
        },
        "id": "Oud1KdbqZu2L",
        "outputId": "28e29a14-a998-42e3-ab50-cc44930c55fc"
      },
      "execution_count": 5,
      "outputs": [
        {
          "output_type": "stream",
          "name": "stdout",
          "text": [
            "(1, 'Niharika Thakur', 'Mumbai', 96573333)\n"
          ]
        }
      ]
    },
    {
      "cell_type": "code",
      "source": [
        "for x in employee:\n",
        "  print(x)"
      ],
      "metadata": {
        "colab": {
          "base_uri": "https://localhost:8080/"
        },
        "id": "gmxFQCN1aAQ3",
        "outputId": "804eac14-90c1-450f-b38b-d5043bc3b961"
      },
      "execution_count": 6,
      "outputs": [
        {
          "output_type": "stream",
          "name": "stdout",
          "text": [
            "1\n",
            "Niharika Thakur\n",
            "Mumbai\n",
            "96573333\n"
          ]
        }
      ]
    },
    {
      "cell_type": "code",
      "source": [
        "print(employee.index('Mumbai'))"
      ],
      "metadata": {
        "colab": {
          "base_uri": "https://localhost:8080/"
        },
        "id": "S--9A6Z4aPFp",
        "outputId": "b375ab9e-f1bf-4962-e27e-01e5ab212eb2"
      },
      "execution_count": 7,
      "outputs": [
        {
          "output_type": "stream",
          "name": "stdout",
          "text": [
            "2\n"
          ]
        }
      ]
    },
    {
      "cell_type": "markdown",
      "source": [
        "List -\n",
        "*   Ordered\n",
        "*   Mutable\n",
        "*   Allow Duplicates\n",
        "\n",
        "\n",
        "\n",
        "\n",
        "\n"
      ],
      "metadata": {
        "id": "_FhF0PfzaTid"
      }
    },
    {
      "cell_type": "code",
      "source": [
        "tasks = ['development', 'testing', 'monitoring']\n",
        "print(tasks)"
      ],
      "metadata": {
        "colab": {
          "base_uri": "https://localhost:8080/"
        },
        "id": "vL8gmWUjaqJf",
        "outputId": "2b04cefc-a1fe-4c99-8d09-d87ab20df878"
      },
      "execution_count": 8,
      "outputs": [
        {
          "output_type": "stream",
          "name": "stdout",
          "text": [
            "['development', 'testing', 'monitoring']\n"
          ]
        }
      ]
    },
    {
      "cell_type": "code",
      "source": [
        "print(tasks[1])"
      ],
      "metadata": {
        "colab": {
          "base_uri": "https://localhost:8080/"
        },
        "id": "QlQQk7YuaxKk",
        "outputId": "5faf67c8-8875-4e75-8c56-a0bf8528e56d"
      },
      "execution_count": 10,
      "outputs": [
        {
          "output_type": "stream",
          "name": "stdout",
          "text": [
            "testing\n"
          ]
        }
      ]
    },
    {
      "cell_type": "code",
      "source": [
        "tasks[1] = 'New testing'\n",
        "print(tasks)"
      ],
      "metadata": {
        "colab": {
          "base_uri": "https://localhost:8080/"
        },
        "id": "kQh65-v1aztX",
        "outputId": "ffd32924-3e03-45d7-a7aa-df94bfb526d8"
      },
      "execution_count": 12,
      "outputs": [
        {
          "output_type": "stream",
          "name": "stdout",
          "text": [
            "['development', 'New testing', 'monitoring']\n"
          ]
        }
      ]
    },
    {
      "cell_type": "code",
      "source": [
        "tasks.append('Production deployment')\n",
        "print(tasks)"
      ],
      "metadata": {
        "colab": {
          "base_uri": "https://localhost:8080/"
        },
        "id": "p-Uk6YXea8Sc",
        "outputId": "ba39ef7c-9d88-4c63-b4d8-f1dbd329806d"
      },
      "execution_count": 13,
      "outputs": [
        {
          "output_type": "stream",
          "name": "stdout",
          "text": [
            "['development', 'New testing', 'monitoring', 'Production deployment']\n"
          ]
        }
      ]
    },
    {
      "cell_type": "code",
      "source": [
        "tasks.insert(1, 'Unit testing')\n",
        "print(tasks)"
      ],
      "metadata": {
        "colab": {
          "base_uri": "https://localhost:8080/"
        },
        "id": "qMwTJe2ubG6g",
        "outputId": "278bdfb3-8a88-4418-ff67-6eb6205606e6"
      },
      "execution_count": 14,
      "outputs": [
        {
          "output_type": "stream",
          "name": "stdout",
          "text": [
            "['development', 'Unit testing', 'New testing', 'monitoring', 'Production deployment']\n"
          ]
        }
      ]
    },
    {
      "cell_type": "code",
      "source": [
        "tasks.remove('Unit testing')\n",
        "print(tasks)"
      ],
      "metadata": {
        "colab": {
          "base_uri": "https://localhost:8080/"
        },
        "id": "K_JZiAUBbNmW",
        "outputId": "135e4c16-54bb-4905-b232-5882f2ca0745"
      },
      "execution_count": 15,
      "outputs": [
        {
          "output_type": "stream",
          "name": "stdout",
          "text": [
            "['development', 'New testing', 'monitoring', 'Production deployment']\n"
          ]
        }
      ]
    },
    {
      "cell_type": "code",
      "source": [
        "tasks.pop(1)\n",
        "print(tasks)"
      ],
      "metadata": {
        "colab": {
          "base_uri": "https://localhost:8080/"
        },
        "id": "d94vmy92bRuK",
        "outputId": "2d607e6a-2a54-4592-f535-fa45c43c1076"
      },
      "execution_count": 16,
      "outputs": [
        {
          "output_type": "stream",
          "name": "stdout",
          "text": [
            "['development', 'monitoring', 'Production deployment']\n"
          ]
        }
      ]
    },
    {
      "cell_type": "code",
      "source": [
        "for x in tasks:\n",
        "  print(x)"
      ],
      "metadata": {
        "colab": {
          "base_uri": "https://localhost:8080/"
        },
        "id": "AhFmSf-5bTlp",
        "outputId": "d9f72134-9caa-46d2-d953-43f92553b39b"
      },
      "execution_count": 17,
      "outputs": [
        {
          "output_type": "stream",
          "name": "stdout",
          "text": [
            "development\n",
            "monitoring\n",
            "Production deployment\n"
          ]
        }
      ]
    },
    {
      "cell_type": "markdown",
      "source": [
        "Sets -\n",
        "\n",
        "*   Unordered\n",
        "*   Duplicates not Allowed\n",
        "\n"
      ],
      "metadata": {
        "id": "j6TMSgdmbZjX"
      }
    },
    {
      "cell_type": "code",
      "source": [
        "task = {'development', 'testing', 'monitoring'}\n",
        "print(task)"
      ],
      "metadata": {
        "colab": {
          "base_uri": "https://localhost:8080/"
        },
        "id": "KVfyBr7-bWm5",
        "outputId": "093412c1-12dc-44cf-9ed4-155d1409bfe6"
      },
      "execution_count": 19,
      "outputs": [
        {
          "output_type": "stream",
          "name": "stdout",
          "text": [
            "{'testing', 'monitoring', 'development'}\n"
          ]
        }
      ]
    },
    {
      "cell_type": "code",
      "source": [
        "task = {'development', 'testing', 'monitoring', 'testing'}\n",
        "print(task)"
      ],
      "metadata": {
        "colab": {
          "base_uri": "https://localhost:8080/"
        },
        "id": "hjLPZzkGbxhm",
        "outputId": "a3f42069-41c0-4176-ff27-46093a6138b4"
      },
      "execution_count": 20,
      "outputs": [
        {
          "output_type": "stream",
          "name": "stdout",
          "text": [
            "{'testing', 'monitoring', 'development'}\n"
          ]
        }
      ]
    },
    {
      "cell_type": "code",
      "source": [
        "task.add('prod deployment')\n",
        "print(task)"
      ],
      "metadata": {
        "colab": {
          "base_uri": "https://localhost:8080/"
        },
        "id": "QeSI6aXOb2RF",
        "outputId": "bc072e51-bc45-4140-a47a-100a82301287"
      },
      "execution_count": 22,
      "outputs": [
        {
          "output_type": "stream",
          "name": "stdout",
          "text": [
            "{'testing', 'monitoring', 'prod deployment', 'development'}\n"
          ]
        }
      ]
    },
    {
      "cell_type": "code",
      "source": [
        "new_task = {'unit tesing', 'SIT testing'}\n",
        "task.update(new_task)\n",
        "print(task)"
      ],
      "metadata": {
        "colab": {
          "base_uri": "https://localhost:8080/"
        },
        "id": "7TxhRbwlb7ZV",
        "outputId": "95f5fecb-396c-4ce8-df28-6839c6f2803c"
      },
      "execution_count": 23,
      "outputs": [
        {
          "output_type": "stream",
          "name": "stdout",
          "text": [
            "{'testing', 'monitoring', 'prod deployment', 'development', 'unit tesing', 'SIT testing'}\n"
          ]
        }
      ]
    },
    {
      "cell_type": "code",
      "source": [
        "task.remove('testing')\n",
        "print(task)"
      ],
      "metadata": {
        "colab": {
          "base_uri": "https://localhost:8080/"
        },
        "id": "vsB8wb9qcLtn",
        "outputId": "4d196dff-9dc0-4bfa-f156-f54d6875f817"
      },
      "execution_count": 25,
      "outputs": [
        {
          "output_type": "stream",
          "name": "stdout",
          "text": [
            "{'monitoring', 'prod deployment', 'development', 'unit tesing', 'SIT testing'}\n"
          ]
        }
      ]
    },
    {
      "cell_type": "code",
      "source": [
        "new_task.clear()\n",
        "print(new_task)"
      ],
      "metadata": {
        "colab": {
          "base_uri": "https://localhost:8080/"
        },
        "id": "oNkahzrpcO3f",
        "outputId": "a5881b92-b5db-47d5-b7fc-0b5ced1287f8"
      },
      "execution_count": 26,
      "outputs": [
        {
          "output_type": "stream",
          "name": "stdout",
          "text": [
            "set()\n"
          ]
        }
      ]
    },
    {
      "cell_type": "markdown",
      "source": [
        "Dictionaries\n",
        "\n",
        "\n",
        "*   Ordered\n",
        "*   Mutable\n",
        "*   No duplicates Allowed\n",
        "*   Cannot be copied to another dictionary - need to use copy function\n",
        "\n"
      ],
      "metadata": {
        "id": "yeZ_teXhcZxA"
      }
    },
    {
      "cell_type": "code",
      "source": [
        "user = {'name': 'Niharika', 'city':'Mumbai', 'age': 22}\n",
        "print(user)"
      ],
      "metadata": {
        "colab": {
          "base_uri": "https://localhost:8080/"
        },
        "id": "bgm_pPOBcm_5",
        "outputId": "af795786-4238-438c-f3db-c69b7b95e634"
      },
      "execution_count": 27,
      "outputs": [
        {
          "output_type": "stream",
          "name": "stdout",
          "text": [
            "{'name': 'Niharika', 'city': 'Mumbai', 'age': 22}\n"
          ]
        }
      ]
    },
    {
      "cell_type": "code",
      "source": [
        "user.get('city')"
      ],
      "metadata": {
        "colab": {
          "base_uri": "https://localhost:8080/",
          "height": 35
        },
        "id": "3c73vr2Ec02q",
        "outputId": "c1a36235-04d9-4e96-e964-7dd67c416b5f"
      },
      "execution_count": 28,
      "outputs": [
        {
          "output_type": "execute_result",
          "data": {
            "text/plain": [
              "'Mumbai'"
            ],
            "application/vnd.google.colaboratory.intrinsic+json": {
              "type": "string"
            }
          },
          "metadata": {},
          "execution_count": 28
        }
      ]
    },
    {
      "cell_type": "code",
      "source": [
        "key = user.keys()\n",
        "print(key)"
      ],
      "metadata": {
        "colab": {
          "base_uri": "https://localhost:8080/"
        },
        "id": "eHJldYCec4ut",
        "outputId": "2e60d8d8-b926-4a79-b56e-5c3a9bc8601c"
      },
      "execution_count": 30,
      "outputs": [
        {
          "output_type": "stream",
          "name": "stdout",
          "text": [
            "dict_keys(['name', 'city', 'age'])\n"
          ]
        }
      ]
    },
    {
      "cell_type": "code",
      "source": [
        "values = user.values()\n",
        "print(values)"
      ],
      "metadata": {
        "colab": {
          "base_uri": "https://localhost:8080/"
        },
        "id": "ZxQmCYLec7zb",
        "outputId": "71d9e295-4a90-4b0e-b6eb-e68ff7eaedff"
      },
      "execution_count": 31,
      "outputs": [
        {
          "output_type": "stream",
          "name": "stdout",
          "text": [
            "dict_values(['Niharika', 'Mumbai', 22])\n"
          ]
        }
      ]
    },
    {
      "cell_type": "code",
      "source": [
        "if 'name' in user:\n",
        "  print('yes')"
      ],
      "metadata": {
        "colab": {
          "base_uri": "https://localhost:8080/"
        },
        "id": "x7oE0UvydB7G",
        "outputId": "2c7fa5f3-597d-4c0a-f17f-755009e0c305"
      },
      "execution_count": 33,
      "outputs": [
        {
          "output_type": "stream",
          "name": "stdout",
          "text": [
            "yes\n"
          ]
        }
      ]
    },
    {
      "cell_type": "code",
      "source": [
        "user.update({'mobile': 645827309})\n",
        "print(user)"
      ],
      "metadata": {
        "colab": {
          "base_uri": "https://localhost:8080/"
        },
        "id": "3W1eP1SydKpt",
        "outputId": "9ea42680-4d5d-4eb9-d20d-7f6dc553706d"
      },
      "execution_count": 34,
      "outputs": [
        {
          "output_type": "stream",
          "name": "stdout",
          "text": [
            "{'name': 'Niharika', 'city': 'Mumbai', 'age': 22, 'mobile': 645827309}\n"
          ]
        }
      ]
    },
    {
      "cell_type": "code",
      "source": [
        "user.pop('mobile')\n",
        "print(user)"
      ],
      "metadata": {
        "colab": {
          "base_uri": "https://localhost:8080/"
        },
        "id": "aGq9LTu0dRQ1",
        "outputId": "54cb62d6-51f9-4236-f4a9-96f74e42a8d3"
      },
      "execution_count": 35,
      "outputs": [
        {
          "output_type": "stream",
          "name": "stdout",
          "text": [
            "{'name': 'Niharika', 'city': 'Mumbai', 'age': 22}\n"
          ]
        }
      ]
    },
    {
      "cell_type": "code",
      "source": [
        "for x in user.keys():\n",
        "  print(user[x])"
      ],
      "metadata": {
        "colab": {
          "base_uri": "https://localhost:8080/"
        },
        "id": "XW8D5Xn_dYp1",
        "outputId": "399aff18-fe65-46e8-a193-031537c5cc4c"
      },
      "execution_count": 36,
      "outputs": [
        {
          "output_type": "stream",
          "name": "stdout",
          "text": [
            "Niharika\n",
            "Mumbai\n",
            "22\n"
          ]
        }
      ]
    }
  ]
}